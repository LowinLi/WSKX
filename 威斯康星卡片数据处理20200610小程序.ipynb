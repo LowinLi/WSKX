{
 "cells": [
  {
   "cell_type": "code",
   "execution_count": 1,
   "metadata": {},
   "outputs": [],
   "source": [
    "# encoding: utf-8\n",
    "import os\n",
    "import pandas as pd"
   ]
  },
  {
   "cell_type": "code",
   "execution_count": 2,
   "metadata": {},
   "outputs": [],
   "source": [
    "\n",
    "def calculate_RFP(l, N, setting = '次数'):\n",
    "    #计算连续N次测试正确的正确应答个数/出现次数\n",
    "    i = 0\n",
    "    a = 0\n",
    "    for x in l:\n",
    "        if x == 1:\n",
    "            i += 1\n",
    "        else:\n",
    "            i = 0\n",
    "            \n",
    "        if i == N:\n",
    "            if setting == '应答数':\n",
    "                a += i\n",
    "            elif setting == '次数':\n",
    "                a += 1\n",
    "        elif i >= N:\n",
    "            if setting == '应答数':\n",
    "                a += 1\n",
    "    return a\n",
    "\n",
    "def calculate_RP(l):\n",
    "    #计算坚持性反应数、坚持性错误数\n",
    "    string = ''.join([str(x) for x in l])\n",
    "    RP=0\n",
    "    RPE = 0\n",
    "    for x in range(len(l))[3:-1]:\n",
    "        cut = string[x-2:x+2]\n",
    "        if cut in ['1010','1001','1000','0010','0001','0000','0101','0100']:\n",
    "            RP += 1\n",
    "        if cut in ['1001','1000','0001','0000','0101','0100']:\n",
    "            RPE += 1\n",
    "    if string[0:3] == '000':\n",
    "        RP += 3\n",
    "        RPE += 3\n",
    "    if string[-3:] in ['100','010','000']:\n",
    "        RP += 1\n",
    "        RPE += 1\n",
    "    return RP, RPE\n",
    "\n",
    "\n",
    "def wskx(feedback,CC,RF):\n",
    "    #威斯康星统计计算\n",
    "    RA = len(feedback)\n",
    "    RC = sum(feedback)\n",
    "    RE = RA - RC\n",
    "    RCP = RC/RA\n",
    "    l = feedback\n",
    "    RFP = (calculate_RFP(l,3,'应答数') - (calculate_RFP(l,11)-calculate_RFP(l,12)) - (calculate_RFP(l,12)-calculate_RFP(l,13))*2)/RA\n",
    "    RP, RPE = calculate_RP(feedback)\n",
    "    RPEP = RPE/RA\n",
    "    NRPE = RE - RPE\n",
    "    FM = calculate_RFP(l,5) - calculate_RFP(l,10)\n",
    "    return pd.DataFrame({'RA完成测查总应答数':[RA],\n",
    "                  'CC完成分类数':[CC],\n",
    "                  'RC正确应答数':[RC],\n",
    "                  'RE错误应答数':[RE],\n",
    "                  'RCP正确应答百分比':[RCP],\n",
    "                  'RF完成第一个分类所需应答数':[RF],\n",
    "                  'RFP概念化水平百分数':[RFP],\n",
    "                  'RP持续性应答数':[RP],\n",
    "                  'RPE持续性错误数':[RPE],\n",
    "                  'RPEP持续性错误百分数':[RPEP],\n",
    "                  'NRPE非持续性错误':[NRPE],\n",
    "                  'FM不能维持完整分类数':[FM]})"
   ]
  },
  {
   "cell_type": "code",
   "execution_count": 3,
   "metadata": {
    "scrolled": true
   },
   "outputs": [],
   "source": [
    "import pandas as pd\n",
    "pd.__version__\n",
    "df = pd.read_excel('威斯康星测试原始数据_200605.xlsx')[['U_Id','Name','List_Feedback','CC','RF']]\n",
    "df['input'] = df['List_Feedback'].apply(lambda x: eval(x))\n",
    "new_data = pd.DataFrame()\n",
    "for record in df.to_dict(orient='records'):\n",
    "    data = wskx(record['input'],record['CC'],record['RF'])\n",
    "    new_data = new_data.append(data)\n",
    "new_data['U_Id'] = df['U_Id'].tolist()\n",
    "new_data['Name'] = df['Name'].tolist()\n",
    "new_data.to_excel('新数据.xlsx')"
   ]
  }
 ],
 "metadata": {
  "kernelspec": {
   "display_name": "Python 3",
   "language": "python",
   "name": "python3"
  },
  "language_info": {
   "codemirror_mode": {
    "name": "ipython",
    "version": 3
   },
   "file_extension": ".py",
   "mimetype": "text/x-python",
   "name": "python",
   "nbconvert_exporter": "python",
   "pygments_lexer": "ipython3",
   "version": "3.8.2"
  }
 },
 "nbformat": 4,
 "nbformat_minor": 1
}
